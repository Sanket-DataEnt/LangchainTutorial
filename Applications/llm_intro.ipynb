{
 "cells": [
  {
   "cell_type": "code",
   "execution_count": null,
   "metadata": {},
   "outputs": [],
   "source": [
    "from auth.config import HUGGINGFACEHUB_API_TOKEN, OPENAI_API_KEY"
   ]
  }
 ],
 "metadata": {
  "kernelspec": {
   "display_name": "LangchainTutorial",
   "language": "python",
   "name": "python3"
  },
  "language_info": {
   "name": "python",
   "version": "3.11.11"
  }
 },
 "nbformat": 4,
 "nbformat_minor": 2
}
