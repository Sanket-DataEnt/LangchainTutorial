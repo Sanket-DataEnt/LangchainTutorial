{
 "cells": [
  {
   "cell_type": "markdown",
   "id": "b947c78e",
   "metadata": {},
   "source": [
    "<font color='green'>\n",
    "Pip install is the command you use to install Python packages with the help of a tool called Pip package manager.\n",
    "<br><br>Installing LangChain package\n",
    "</font>"
   ]
  },
  {
   "cell_type": "code",
   "execution_count": 1,
   "id": "8236fd59",
   "metadata": {},
   "outputs": [],
   "source": [
    "# !pip install langchain==0.1.13"
   ]
  },
  {
   "cell_type": "markdown",
   "id": "32c225b4",
   "metadata": {},
   "source": [
    "## Let's use Proprietary LLM from - OpenAI"
   ]
  },
  {
   "cell_type": "markdown",
   "id": "2a0e925c",
   "metadata": {},
   "source": [
    "<font color='green'>\n",
    "Installing Openai package, which includes the classes that we can use to communicate with Openai services\n",
    "<font>"
   ]
  },
  {
   "cell_type": "code",
   "execution_count": 2,
   "id": "5cb5a1a7",
   "metadata": {},
   "outputs": [],
   "source": [
    "# !pip install openai==1.14.2"
   ]
  },
  {
   "cell_type": "markdown",
   "id": "f274e9c5",
   "metadata": {},
   "source": [
    "<font color='green'>\n",
    "Imports the Python built-in module called \"os.\"\n",
    "<br>This module provides a way to interact with the operating system, such as accessing environment variables, working with files and directories, executing shell commands, etc\n",
    "<br><br>\n",
    "The environ attribute is a dictionary-like object that contains the environment variables of the current operating system session\n",
    "<br><br>\n",
    "By accessing os.environ, you can retrieve and manipulate environment variables within your Python program. For example, you can retrieve the value of a specific environment variable using the syntax os.environ['VARIABLE_NAME'], where \"VARIABLE_NAME\" is the name of the environment variable you want to access.\n",
    "<font>"
   ]
  },
  {
   "cell_type": "code",
   "execution_count": 1,
   "id": "a4d278e8",
   "metadata": {},
   "outputs": [],
   "source": [
    "# import os\n",
    "# os.environ[\"OPENAI_API_KEY\"] = \"sk-PLfFwP2352352352hdfhdfhdhKQm3523vXr2dL8hVowXdt\"\n",
    "import sys\n",
    "sys.path.append('/Users/sanket/Personal/LLM/LangchainTutorial')\n",
    "\n",
    "from auth.config import HUGGINGFACEHUB_API_TOKEN, OPENAI_API_KEY\n",
    "import os\n",
    "os.environ[\"OPENAI_API_KEY\"] = OPENAI_API_KEY\n",
    "os.environ[\"HUGGINGFACEHUB_API_TOKEN\"] = HUGGINGFACEHUB_API_TOKEN"
   ]
  },
  {
   "cell_type": "markdown",
   "id": "5aef06cb",
   "metadata": {},
   "source": [
    "<font color='green'>\n",
    "LangChain has built a Wrapper around OpenAI APIs, using which we can get access to all the services OpenAI provides.\n",
    "<br>\n",
    "The code snippet below imports a specific class called 'OpenAI'(Wrapper around OpenAI large language models) from the 'llms' module of the 'langchain' library.\n",
    "\n",
    "<br>https://python.langchain.com/en/latest/_modules/langchain/llms/openai.html\n",
    "<font>"
   ]
  },
  {
   "cell_type": "code",
   "execution_count": 11,
   "id": "db64eaa7",
   "metadata": {},
   "outputs": [],
   "source": [
    "#As Langchain team has been working aggresively on improving the tool, we can see a lot of changes happening every weeek,\n",
    "#As a part of it, the below import has been depreciated\n",
    "#from langchain.llms import OpenAI\n",
    "\n",
    "#First we'll need to import the below LangChain - OpenAI integration package and then import it please, if not installed already\n",
    "\n",
    "# !pip install langchain-openai==0.1.0 -q\n",
    "\n",
    "from langchain_openai import ChatOpenAI"
   ]
  },
  {
   "cell_type": "markdown",
   "id": "6a9d124f",
   "metadata": {},
   "source": [
    "<font color='green'>Here we are instantiating a language model object called OpenAI, for our natural language processing tasks.\n",
    "<br><br>\n",
    "The parameter model_name is provided with the value \"text-davinci-003\" which is a specific version or variant of a language model (examples - text-davinci-003, code-davinci-002, gpt-3.5-turbo, text-ada-001 and more).\n",
    "<font>"
   ]
  },
  {
   "cell_type": "code",
   "execution_count": 12,
   "id": "9a3be989",
   "metadata": {},
   "outputs": [],
   "source": [
    "llm = ChatOpenAI(model=\"gpt-4o-mini\", api_key=OPENAI_API_KEY)"
   ]
  },
  {
   "cell_type": "markdown",
   "id": "396c7904",
   "metadata": {},
   "source": [
    "<font color='green'>\n",
    "Here language model is represented by the object \"llm,\" which is being utilized to generate a completion or response based on a specific query. \n",
    "<br><br>\n",
    "The query, stored in the \"our_query\" variable is bieng passed to the model through llm object.\n",
    "<font>"
   ]
  },
  {
   "cell_type": "code",
   "execution_count": 13,
   "id": "a2e267f6",
   "metadata": {},
   "outputs": [],
   "source": [
    "our_query = \"What is the currency of India?\"\n",
    "\n",
    "#Last week langchain has recommended to use invoke function for the below please :)\n",
    "completion = llm.invoke(our_query)"
   ]
  },
  {
   "cell_type": "code",
   "execution_count": 14,
   "id": "39f1b87e",
   "metadata": {},
   "outputs": [
    {
     "name": "stdout",
     "output_type": "stream",
     "text": [
      "content='The currency of India is the Indian Rupee, which is abbreviated as INR.' response_metadata={'token_usage': {'completion_tokens': 17, 'prompt_tokens': 14, 'total_tokens': 31, 'completion_tokens_details': {'accepted_prediction_tokens': 0, 'audio_tokens': 0, 'reasoning_tokens': 0, 'rejected_prediction_tokens': 0}, 'prompt_tokens_details': {'audio_tokens': 0, 'cached_tokens': 0}}, 'model_name': 'gpt-4o-mini', 'system_fingerprint': 'fp_72ed7ab54c', 'finish_reason': 'stop', 'logprobs': None} id='run-066e0fad-ce6a-43a5-8a0a-a46b543f2c53-0'\n"
     ]
    }
   ],
   "source": [
    "print(completion)"
   ]
  },
  {
   "cell_type": "markdown",
   "id": "e2085724",
   "metadata": {},
   "source": [
    "## Let's use open-source LLM hosted on Hugging Face"
   ]
  },
  {
   "cell_type": "code",
   "execution_count": 2,
   "id": "9548eede",
   "metadata": {},
   "outputs": [],
   "source": [
    "from langchain_huggingface import HuggingFaceEndpoint"
   ]
  },
  {
   "cell_type": "code",
   "execution_count": 3,
   "id": "099a0220",
   "metadata": {},
   "outputs": [
    {
     "name": "stderr",
     "output_type": "stream",
     "text": [
      "/Users/sanket/Personal/LLM/LangchainTutorial/lib/python3.11/site-packages/tqdm/auto.py:21: TqdmWarning: IProgress not found. Please update jupyter and ipywidgets. See https://ipywidgets.readthedocs.io/en/stable/user_install.html\n",
      "  from .autonotebook import tqdm as notebook_tqdm\n"
     ]
    }
   ],
   "source": [
    "llm = HuggingFaceEndpoint(\n",
    "    repo_id=\"mistralai/Mistral-7B-Instruct-v0.2\") # Model link : https://huggingface.co/mistralai/Mistral-7B-Instruct-v0.2"
   ]
  },
  {
   "cell_type": "code",
   "execution_count": 4,
   "id": "3beee630",
   "metadata": {},
   "outputs": [],
   "source": [
    "# The LLM takes a prompt as an input and outputs a completion\n",
    "our_query = \"What is the currency of India?\"\n",
    "\n",
    "#Last week langchain has recommended to use invoke function for the below please :)\n",
    "completion = llm.invoke(our_query)"
   ]
  },
  {
   "cell_type": "code",
   "execution_count": 5,
   "id": "259e2628",
   "metadata": {},
   "outputs": [
    {
     "name": "stdout",
     "output_type": "stream",
     "text": [
      "\n",
      "\n",
      "The currency of India is the Indian Rupee. The symbol for the Indian Rupee is ₹. One Indian Rupee is divided into 100 paise. India is the world's seventh-largest economy by nominal Gross Domestic Product (GDP) and the third-largest by purchasing power parity (PPP). India is the world's second-most populous country, and it is also the world's largest democracy. The Reserve Bank of India (RBI) is the central bank of India, and it manages the monetary policy of the country. The Indian Rupee is one of the most widely used currencies for international transactions, and it is traded extensively on the foreign exchange market.\n"
     ]
    }
   ],
   "source": [
    "print(completion)"
   ]
  }
 ],
 "metadata": {
  "kernelspec": {
   "display_name": "LangchainTutorial",
   "language": "python",
   "name": "python3"
  },
  "language_info": {
   "codemirror_mode": {
    "name": "ipython",
    "version": 3
   },
   "file_extension": ".py",
   "mimetype": "text/x-python",
   "name": "python",
   "nbconvert_exporter": "python",
   "pygments_lexer": "ipython3",
   "version": "3.11.11"
  }
 },
 "nbformat": 4,
 "nbformat_minor": 5
}
